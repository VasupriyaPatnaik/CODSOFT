{
  "nbformat": 4,
  "nbformat_minor": 0,
  "metadata": {
    "colab": {
      "provenance": [],
      "authorship_tag": "ABX9TyOS2yCVpliwT3+Brpx4rt0i"
    },
    "kernelspec": {
      "name": "python3",
      "display_name": "Python 3"
    },
    "language_info": {
      "name": "python"
    }
  },
  "cells": [
    {
      "cell_type": "code",
      "execution_count": null,
      "metadata": {
        "id": "PtbM50K73YgE"
      },
      "outputs": [],
      "source": [
        "import re #re-support for working with regular expressions(used for pattern matching within strings)"
      ]
    },
    {
      "cell_type": "code",
      "source": [
        "def mini_chatbot():\n",
        "  print(\"Hello! I'm your enhanced chatbot. Ask me something or type 'exit' to leave.\")\n",
        "\n",
        "#patterns dictionary\n",
        "#maps regular expression patterns(keys) to corresponding responses(values)\n",
        "#\\b--word boundary(pattern matches whole words only, not substrings)\n",
        "  patterns = {\n",
        "        # Greetings and General Responses\n",
        "        r'\\bhello\\b': \"Hi there!\",\n",
        "        r'\\bhow are you\\b': \"I'm just a program, so I don't have feelings, but thanks for asking!\",\n",
        "        r'\\byour name\\b': \"I'm an enhanced chatbot using pattern matching!\",\n",
        "        r'\\bthanks\\b': \"You're welcome!\",\n",
        "        r'\\bhelp\\b': \"Of course! Ask me anything.\",\n",
        "        r'\\blove\\b': \"I'm just code, so I don't feel emotions like love.\",\n",
        "        r'\\bhuman\\b': \"No, I'm a machine learning model.\",\n",
        "        r'\\brobot\\b': \"Close enough. I'm a digital chatbot.\",\n",
        "        r'\\bfun\\b': \"I'm designed to be informative, but I can try to be fun!\",\n",
        "        r'\\bfamily\\b': \"I don't have a family; I'm a program.\",\n",
        "        r'\\bfriend\\b': \"All users are my friends! I'm here to help.\",\n",
        "\n",
        "        # Personal Information\n",
        "        r'\\bsleep\\b': \"I don't sleep. Always up and running.\",\n",
        "        r'\\bage\\b': \"I'm just a piece of code, so I don't age like humans.\",\n",
        "        r'\\bbirthday\\b': \"Every day is a good day for me. No birthday needed.\",\n",
        "\n",
        "        # Favorites\n",
        "        r'\\bfavorite color\\b': \"I don't have personal preferences, but blue seems popular.\",\n",
        "        r'\\bfavorite animal\\b': \"I don't have favorites, but many people love dogs and cats.\",\n",
        "        r'\\bfavorite sport\\b': \"I don't play sports, but football and basketball are very popular.\",\n",
        "        r'\\bfavorite movie\\b': \"I don't watch movies, but many people enjoy 'The Shawshank Redemption'.\",\n",
        "        r'\\bfavorite book\\b': \"I don't read books, but 'To Kill a Mockingbird' is a classic.\",\n",
        "        r'\\bfavorite food\\b': \"I don't eat, but pizza is a popular choice.\",\n",
        "        r'\\bfavorite drink\\b': \"I don't drink, but many people like coffee.\",\n",
        "        r'\\bfavorite country\\b': \"I don't have favorites, but many people love traveling to Italy.\",\n",
        "        r'\\bfavorite city\\b': \"I don't have a preference, but New York City is famous worldwide.\",\n",
        "        r'\\bfavorite music\\b': \"I don't listen to music, but many people enjoy pop and rock.\",\n",
        "        r'\\bfavorite weather\\b': \"I don't experience weather, but many enjoy sunny days.\",\n",
        "        r'\\bfavorite season\\b': \"I don't experience seasons, but many people love spring.\",\n",
        "\n",
        "        # Time and Date\n",
        "        r'\\btime\\b': \"I don't track time, but you can check your device's clock.\",\n",
        "        r'\\bdate\\b': \"Please check your calendar; I don't keep track.\",\n",
        "\n",
        "        # Entertainment\n",
        "        r'\\bjoke\\b': \"Why did the programmer quit his job? He didn't get arrays!\",\n",
        "        r'\\bmovie\\b': \"I don't watch movies, but I can help you find one.\",\n",
        "        r'\\bmusic\\b': \"While I don't listen to music, I know a lot about it.\",\n",
        "\n",
        "        # Knowledge Topics\n",
        "        r'\\bscience\\b': \"Science is a fascinating field covering physics, chemistry, biology, and more.\",\n",
        "        r'\\btechnology\\b': \"Technology is ever-evolving, from AI to smartphones.\",\n",
        "        r'\\bhistory\\b': \"History is full of interesting events and figures, from ancient times to modern day.\",\n",
        "        r'\\bgeography\\b': \"Geography covers the study of places and the relationships between people and their environments.\",\n",
        "        r'\\bliterature\\b': \"Literature includes great works from authors like Shakespeare and Hemingway.\",\n",
        "        r'\\bmathematics\\b': \"Mathematics is the study of numbers, shapes, and patterns.\",\n",
        "        r'\\bprogramming\\b': \"Programming involves writing code to create software applications.\",\n",
        "        r'\\bai\\b': \"Artificial Intelligence is a field focused on creating intelligent machines.\",\n",
        "        r'\\bmachine learning\\b': \"Machine Learning is a subset of AI that involves training algorithms to learn from data.\",\n",
        "        r'\\bpython\\b': \"Python is a popular programming language known for its readability and versatility.\",\n",
        "\n",
        "        # Other\n",
        "        r'\\bfood\\b': \"I don't eat, but I have information on many foods!\",\n",
        "        r'\\bdrink\\b': \"Digital beings like me don't drink, but I can tell you about various drinks.\",\n",
        "        r'\\bcountry\\b': \"I have knowledge about many countries. Which one are you curious about?\",\n",
        "        r'\\bcity\\b': \"I know about many cities. Ask away!\",\n",
        "        r'\\bsports\\b': \"Which sport are you interested in?\",\n",
        "        r'\\bweather\\b': \"I can't forecast, but there are great apps for that!\",\n",
        "        r'\\bnews\\b': \"I don't have real-time updates, but I can share general knowledge.\",\n",
        "        r'\\blanguage\\b': \"I can understand and generate text in multiple languages.\"\n",
        "    }\n",
        "  while True:\n",
        "       user_input=input(\"You: \").lower()\n",
        "       if 'exit' in user_input:\n",
        "           print(\"Chatbot: Bye! Have a great day!\")\n",
        "           break\n",
        "       responded=False\n",
        "       for pattern,response in patterns.items():\n",
        "           if re.search(pattern,user_input):\n",
        "              print(f\"Chatbot: {response}\")\n",
        "              responded=True\n",
        "              break\n",
        "       if not responded:\n",
        "              print(\"Chatbot: I'm not sure how to respond for that\")\n",
        "\n",
        "mini_chatbot()\n",
        ""
      ],
      "metadata": {
        "colab": {
          "base_uri": "https://localhost:8080/"
        },
        "id": "3ek9-C4l4y19",
        "outputId": "3bad94be-5381-43dc-e9e6-8c9430cb7135"
      },
      "execution_count": 17,
      "outputs": [
        {
          "output_type": "stream",
          "name": "stdout",
          "text": [
            "Hello! I'm your enhanced chatbot. Ask me something or type 'exit' to leave.\n",
            "You: hello\n",
            "Chatbot: Hi there!\n",
            "You: what is your name\n",
            "Chatbot: I'm an enhanced chatbot using pattern matching!\n",
            "You: nice\n",
            "Chatbot: I'm not sure how to respond for that\n",
            "You: what is your favorite book\n",
            "Chatbot: I don't read books, but 'To Kill a Mockingbird' is a classic.\n",
            "You: can u tell me a joke?\n",
            "Chatbot: Why did the programmer quit his job? He didn't get arrays!\n",
            "You: haha\n",
            "Chatbot: I'm not sure how to respond for that\n",
            "You: tell something about programming\n",
            "Chatbot: Programming involves writing code to create software applications.\n",
            "You: thanks\n",
            "Chatbot: You're welcome!\n",
            "You: exit\n",
            "Chatbot: Bye! Have a great day!\n"
          ]
        }
      ]
    }
  ]
}