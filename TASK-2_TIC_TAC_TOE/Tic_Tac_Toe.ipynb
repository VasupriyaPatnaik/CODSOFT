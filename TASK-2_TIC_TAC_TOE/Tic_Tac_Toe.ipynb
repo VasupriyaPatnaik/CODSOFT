{
  "cells": [
    {
      "cell_type": "code",
      "execution_count": 25,
      "metadata": {
        "id": "VE9bQzTmJrGb"
      },
      "outputs": [],
      "source": [
        "import math"
      ]
    },
    {
      "cell_type": "code",
      "execution_count": 26,
      "metadata": {
        "colab": {
          "base_uri": "https://localhost:8080/"
        },
        "id": "opdGIBj3TZaT",
        "outputId": "214d9694-d73e-40e2-deee-dd983b32644b"
      },
      "outputs": [
        {
          "name": "stdout",
          "output_type": "stream",
          "text": [
            "[[' ', ' ', ' '], [' ', ' ', ' '], [' ', ' ', ' ']]\n"
          ]
        }
      ],
      "source": [
        "def create_board():\n",
        "  return [[' ' for _ in range(3)] for _ in range(3)] #nested list comprehension #_ is variable\n",
        "board=create_board()\n",
        "print(board)"
      ]
    },
    {
      "cell_type": "code",
      "execution_count": 27,
      "metadata": {
        "colab": {
          "base_uri": "https://localhost:8080/"
        },
        "id": "U34ZxIyAWwe3",
        "outputId": "7076649e-d06b-4d10-fa46-25244001a856"
      },
      "outputs": [
        {
          "name": "stdout",
          "output_type": "stream",
          "text": [
            " | | \n",
            "-----\n",
            " | | \n",
            "-----\n",
            " | | \n",
            "-----\n",
            "None\n"
          ]
        }
      ],
      "source": [
        "def print_board(board):\n",
        "  for row in board:\n",
        "    print('|'.join(row)) #join-string method that concatenates the elements of a list into a single string\n",
        "    print('-' * 5)\n",
        "board1=print_board(board)\n",
        "print(board1)"
      ]
    },
    {
      "cell_type": "code",
      "execution_count": 28,
      "metadata": {
        "id": "NJRuChXgbRxL"
      },
      "outputs": [],
      "source": [
        "def check_win(board,player): #board-current state of game\n",
        "  win_conditions=[\n",
        "      [board[0][0],board[0][1],board[0][2]],\n",
        "      [board[1][0],board[1][1],board[1][2]],\n",
        "      [board[2][0],board[2][1],board[2][2]],\n",
        "      [board[0][0],board[1][0],board[2][0]],\n",
        "      [board[0][1],board[1][1],board[2][1]],\n",
        "      [board[0][2],board[1][2],board[2][2]],\n",
        "      [board[0][0],board[1][1],board[2][2]],\n",
        "      [board[0][2],board[1][1],board[2][0]],\n",
        "  ]\n",
        "  return [player,player,player] in win_conditions  #if condition present then returns true indicates player won,else false"
      ]
    },
    {
      "cell_type": "code",
      "execution_count": 29,
      "metadata": {
        "id": "n7fjh91HhKwA"
      },
      "outputs": [],
      "source": [
        "def check_draw(board):\n",
        "  for row in board:\n",
        "    if ' ' in row:\n",
        "      return False\n",
        "  return True"
      ]
    },
    {
      "cell_type": "code",
      "execution_count": 30,
      "metadata": {
        "id": "EQGCbDaGjM-P"
      },
      "outputs": [],
      "source": [
        "def minmax(board,depth,is_maximizing,alpha,beta):\n",
        "  #base cases which decide if game reached terminal state or no\n",
        "  if check_win(board,'O'):\n",
        "    return 1  #AI wins\n",
        "  if check_win(board,'X'):\n",
        "    return -1 #human wins\n",
        "  if check_draw(board):\n",
        "    return 0\n",
        "  #minmax recursive search if base condition didn't satisfy\n",
        "  if is_maximizing:  #maximizing player-AI('O')\n",
        "    max_eval=-math.inf #very low value(worst possible outcome)\n",
        "    #iterate through all empty cells\n",
        "    for i in range(3):\n",
        "      for j in range(3):\n",
        "        if board[i][j]==' ':  #empty space check\n",
        "          board[i][j]='O'\n",
        "          eval=minmax(board,depth+1,False,alpha,beta)  #false-opponent turn\n",
        "          board[i][j]=' '  #undoing move\n",
        "          max_eval=max(max_eval,eval)\n",
        "          alpha=max(alpha,eval)\n",
        "          if beta<=alpha: #condition for pruning\n",
        "            break\n",
        "    return max_eval  #max_eval gives best possible outcome\n",
        "  else: #minimizing player-human('X')\n",
        "    min_eval=math.inf #very high value(worst possible outcome for AI)\n",
        "    for i in range(3):\n",
        "      for j in range(3):\n",
        "        if board[i][j]==' ':\n",
        "          board[i][j]='X'\n",
        "          eval=minmax(board,depth+1,True,alpha,beta) #true-AI turn\n",
        "          board[i][j]=' '\n",
        "          min_eval=min(min_eval,eval)\n",
        "          beta=min(beta,eval)\n",
        "          if beta<=alpha:\n",
        "            break\n",
        "    return min_eval"
      ]
    },
    {
      "cell_type": "code",
      "execution_count": 31,
      "metadata": {
        "id": "xmH7G0FK26tm"
      },
      "outputs": [],
      "source": [
        "def find_best_move(board):\n",
        "  best_move=None\n",
        "  best_value=-math.inf  #store the highest evaluation value\n",
        "  for i in range(3):\n",
        "    for j in range(3):\n",
        "      if board[i][j]==' ':\n",
        "        board[i][j]='O'\n",
        "        move_value=minmax(board,0,False,-math.inf,math.inf) #0-initial depth of tree\n",
        "        board[i][j]=' '\n",
        "        if move_value is not None and move_value > best_value:\n",
        "          best_move=(i,j)\n",
        "          best_value=move_value\n",
        "  return best_move   #maximizes its chances of winning or minimizing its chances of losing, making it an optimal player in the game of Tic-Tac-Toe."
      ]
    },
    {
      "cell_type": "code",
      "execution_count": 32,
      "metadata": {
        "colab": {
          "base_uri": "https://localhost:8080/"
        },
        "id": "_Ex0aAeB7VWv",
        "outputId": "4e157df3-1f9b-4858-bc6e-afeca9ae991a"
      },
      "outputs": [
        {
          "name": "stdout",
          "output_type": "stream",
          "text": [
            "-----------------------Welcome to Tic-Tac-Toe---------------------------\n",
            "Human is X and AI is O\n",
            " | | \n",
            "-----\n",
            " | | \n",
            "-----\n",
            " | | \n",
            "-----\n",
            "--------Let's start the game now---------\n",
            "Human move:\n",
            " | | \n",
            "-----\n",
            " |X| \n",
            "-----\n",
            " | | \n",
            "-----\n",
            "AI move: \n",
            "O| | \n",
            "-----\n",
            " |X| \n",
            "-----\n",
            " | | \n",
            "-----\n",
            "Human move:\n",
            "O| |X\n",
            "-----\n",
            " |X| \n",
            "-----\n",
            " | | \n",
            "-----\n",
            "AI move: \n",
            "O| |X\n",
            "-----\n",
            " |X| \n",
            "-----\n",
            "O| | \n",
            "-----\n",
            "Human move:\n",
            "O| |X\n",
            "-----\n",
            " |X| \n",
            "-----\n",
            "O| |X\n",
            "-----\n",
            "AI move: \n",
            "O| |X\n",
            "-----\n",
            "O|X| \n",
            "-----\n",
            "O| |X\n",
            "-----\n",
            "AI wins!\n"
          ]
        }
      ],
      "source": [
        "def play_game():\n",
        "  board=create_board()\n",
        "  ai_player='O'\n",
        "  human_player='X'\n",
        "  print(\"-----------------------Welcome to Tic-Tac-Toe---------------------------\")\n",
        "  print(\"Human is X and AI is O\")\n",
        "  print_board(board)  #prints the initial empty game board\n",
        "  print(\"--------Let's start the game now---------\")\n",
        "  while True:\n",
        "    #human move\n",
        "    row,col=map(int,input(\"Enter your move (row column): \").split())\n",
        "    if row not in range(3) or col not in range(3) or board[row][col] != ' ':\n",
        "        print(\"Not a valid move. Please try again.\")\n",
        "        continue\n",
        "    board[row][col]=human_player\n",
        "    print(\"Human move:\")\n",
        "    print_board(board)\n",
        "    if check_win(board,'X'):\n",
        "      print(\"Human wins!\")\n",
        "      break\n",
        "    if check_draw(board):\n",
        "      print(\"It's a draw!\")\n",
        "      break\n",
        "    #AI move\n",
        "    ai_move=find_best_move(board)\n",
        "    board[ai_move[0]][ai_move[1]]='O'\n",
        "    print(\"AI move: \")\n",
        "    print_board(board)\n",
        "    if check_win(board,ai_player):\n",
        "      print(\"AI wins!\")\n",
        "      break\n",
        "    if check_draw(board):\n",
        "      print(\"It's a draw!\")\n",
        "      break\n",
        "\n",
        "play_game()"
      ]
    },
    {
      "cell_type": "code",
      "execution_count": 33,
      "metadata": {
        "colab": {
          "base_uri": "https://localhost:8080/"
        },
        "id": "VcxhjMf5n_Iz",
        "outputId": "f5ac2a5c-78c1-45e2-8f86-e8b853119510"
      },
      "outputs": [
        {
          "name": "stdout",
          "output_type": "stream",
          "text": [
            "-----------------------Welcome to Tic-Tac-Toe---------------------------\n",
            "Human is X and AI is O\n",
            " | | \n",
            "-----\n",
            " | | \n",
            "-----\n",
            " | | \n",
            "-----\n",
            "--------Let's start the game now---------\n"
          ]
        },
        {
          "ename": "ValueError",
          "evalue": "not enough values to unpack (expected 2, got 0)",
          "output_type": "error",
          "traceback": [
            "\u001b[1;31m---------------------------------------------------------------------------\u001b[0m",
            "\u001b[1;31mValueError\u001b[0m                                Traceback (most recent call last)",
            "Cell \u001b[1;32mIn[33], line 36\u001b[0m\n\u001b[0;32m     33\u001b[0m       \u001b[38;5;28mprint\u001b[39m(\u001b[38;5;124m\"\u001b[39m\u001b[38;5;124mIt\u001b[39m\u001b[38;5;124m'\u001b[39m\u001b[38;5;124ms a draw!\u001b[39m\u001b[38;5;124m\"\u001b[39m)\n\u001b[0;32m     34\u001b[0m       \u001b[38;5;28;01mbreak\u001b[39;00m\n\u001b[1;32m---> 36\u001b[0m play_game()\n",
            "Cell \u001b[1;32mIn[33], line 11\u001b[0m, in \u001b[0;36mplay_game\u001b[1;34m()\u001b[0m\n\u001b[0;32m      8\u001b[0m \u001b[38;5;28mprint\u001b[39m(\u001b[38;5;124m\"\u001b[39m\u001b[38;5;124m--------Let\u001b[39m\u001b[38;5;124m'\u001b[39m\u001b[38;5;124ms start the game now---------\u001b[39m\u001b[38;5;124m\"\u001b[39m)\n\u001b[0;32m      9\u001b[0m \u001b[38;5;28;01mwhile\u001b[39;00m \u001b[38;5;28;01mTrue\u001b[39;00m:\n\u001b[0;32m     10\u001b[0m   \u001b[38;5;66;03m#human move\u001b[39;00m\n\u001b[1;32m---> 11\u001b[0m   row,col\u001b[38;5;241m=\u001b[39m\u001b[38;5;28mmap\u001b[39m(\u001b[38;5;28mint\u001b[39m,\u001b[38;5;28minput\u001b[39m(\u001b[38;5;124m\"\u001b[39m\u001b[38;5;124mEnter your move (row column): \u001b[39m\u001b[38;5;124m\"\u001b[39m)\u001b[38;5;241m.\u001b[39msplit())\n\u001b[0;32m     12\u001b[0m   \u001b[38;5;28;01mif\u001b[39;00m row \u001b[38;5;129;01mnot\u001b[39;00m \u001b[38;5;129;01min\u001b[39;00m \u001b[38;5;28mrange\u001b[39m(\u001b[38;5;241m3\u001b[39m) \u001b[38;5;129;01mor\u001b[39;00m col \u001b[38;5;129;01mnot\u001b[39;00m \u001b[38;5;129;01min\u001b[39;00m \u001b[38;5;28mrange\u001b[39m(\u001b[38;5;241m3\u001b[39m) \u001b[38;5;129;01mor\u001b[39;00m board[row][col] \u001b[38;5;241m!=\u001b[39m \u001b[38;5;124m'\u001b[39m\u001b[38;5;124m \u001b[39m\u001b[38;5;124m'\u001b[39m:\n\u001b[0;32m     13\u001b[0m       \u001b[38;5;28mprint\u001b[39m(\u001b[38;5;124m\"\u001b[39m\u001b[38;5;124mInvalid move. Please try again.\u001b[39m\u001b[38;5;124m\"\u001b[39m)\n",
            "\u001b[1;31mValueError\u001b[0m: not enough values to unpack (expected 2, got 0)"
          ]
        }
      ],
      "source": [
        "def play_game():\n",
        "  board=create_board()\n",
        "  ai_player='O'\n",
        "  human_player='X'\n",
        "  print(\"-----------------------Welcome to Tic-Tac-Toe---------------------------\")\n",
        "  print(\"Human is X and AI is O\")\n",
        "  print_board(board)  #prints the initial empty game board\n",
        "  print(\"--------Let's start the game now---------\")\n",
        "  while True:\n",
        "    #human move\n",
        "    row,col=map(int,input(\"Enter your move (row column): \").split())\n",
        "    if row not in range(3) or col not in range(3) or board[row][col] != ' ':\n",
        "        print(\"Invalid move. Please try again.\")\n",
        "        continue\n",
        "    board[row][col]=human_player\n",
        "    print(\"Human move:\")\n",
        "    print_board(board)\n",
        "    if check_win(board,'X'):\n",
        "      print(\"Human wins!\")\n",
        "      break\n",
        "    if check_draw(board):\n",
        "      print(\"It's a draw!\")\n",
        "      break\n",
        "    #AI move\n",
        "    ai_move=find_best_move(board)\n",
        "    board[ai_move[0]][ai_move[1]]='O'\n",
        "    print(\"AI move: \")\n",
        "    print_board(board)\n",
        "    if check_win(board,ai_player):\n",
        "      print(\"AI wins!\")\n",
        "      break\n",
        "    if check_draw(board):\n",
        "      print(\"It's a draw!\")\n",
        "      break\n",
        "\n",
        "play_game()"
      ]
    }
  ],
  "metadata": {
    "colab": {
      "authorship_tag": "ABX9TyOnSNB5Rvf32g32NOPWbGbS",
      "provenance": []
    },
    "kernelspec": {
      "display_name": "base",
      "language": "python",
      "name": "python3"
    },
    "language_info": {
      "codemirror_mode": {
        "name": "ipython",
        "version": 3
      },
      "file_extension": ".py",
      "mimetype": "text/x-python",
      "name": "python",
      "nbconvert_exporter": "python",
      "pygments_lexer": "ipython3",
      "version": "3.11.5"
    }
  },
  "nbformat": 4,
  "nbformat_minor": 0
}
